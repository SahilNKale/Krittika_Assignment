{
 "cells": [
  {
   "cell_type": "markdown",
   "metadata": {
    "id": "6jprQ7IFBY9b"
   },
   "source": [
    "# **Question 1 : Visualizing Pleiades cluster**\n",
    "\n",
    "Our beloved astronomy club, Krittika, is named after one of the most conspicuous star cluster in the sky, Pleiades. The CSV file stardata.csv\n",
    "contains four columns of data, which contain the following data for 196 stars in the cluster:\n",
    "\n",
    "\n",
    "*   Column 1: RA of each star in degrees\n",
    "*   Column 2: Declination of each star in degrees\n",
    "*   Column 3: Parallax of each star in milliarcseconds (mas)\n",
    "*   Column 4: Apparent Magnitude of the star\n",
    "\n",
    "\n",
    "Parallax $p$ of a star is directly related to its distance $d$ as $d$ in parsecs $= \\frac{1}{p}$ where parallax is in arcseconds.\n",
    "\n",
    "Before proceeding, you need to be able to read the csv file contents, and since the assignment involves graphs, you might want to import some things as well:"
   ]
  },
  {
   "cell_type": "code",
   "execution_count": 15,
   "metadata": {
    "id": "wFuuIRbqCIRL"
   },
   "outputs": [],
   "source": [
    "##Lets, first import the required libraries and load the csv file.\n",
    "\n",
    "from numpy import*\n",
    "from matplotlib.pyplot import*\n",
    "%matplotlib inline\n",
    "import pandas as pd\n",
    "StarData=pd.read_csv(\"stardata.csv\",header=None)"
   ]
  },
  {
   "cell_type": "markdown",
   "metadata": {
    "id": "tRub3yySCcbd"
   },
   "source": [
    "A little background on magnitude of a star:\n",
    "\n",
    "Magnitudes in Astronomy are a way to describe how bright an object (in our case, a star) is:\n",
    "\n",
    "**Apparent magnitude**: Apparent magnitude ($m$) is a measure of the brightness of a star or any other astronomical object observed from the earth. It is similar to the decibel system for sound in that magnitudes are logarithmic and can be calculated according to the formula\n",
    "$$m = -2.5 \\log  { \\left ( \\dfrac{F}{F_0} \\right )} $$\n",
    "where $F$ is the flux from the star (measured in $W/m^2$), and $F_0$ is a reference flux. \n",
    "\n",
    "We can calculate the flux of a star at some distance $d$ away as\n",
    "$$F = \\dfrac{L}{4 \\pi d^2}$$\n",
    "\n",
    "where $L$ is the Luminosity of the star (measured in W).\n",
    "\n",
    "**Absolute magnitude**: It is the magnitude of the star at a distance of 10 pc, and is related to the apparent magnitude by (and try to see if you can derive this):\n",
    "$$m-M = -5 + 5\\log_{10}(d)$$\n",
    "where $M$ is the absolute magnitude and $d$ is the distance of the star from us in parsecs (pc).\n",
    "To read up more about magnitudes, hit up this Wikipedia article - https://en.wikipedia.org/wiki/Magnitude_(astronomy%29.\n",
    "\n",
    "Using the above info and the earlier relation of distance and parallax, use the imported libraries to find the absolute magnitudes of all the stars of the csv file, and plot a histogram of the distribution, with 50 bins."
   ]
  },
  {
   "cell_type": "code",
   "execution_count": 16,
   "metadata": {
    "id": "kJpsPXK6sMZp"
   },
   "outputs": [
    {
     "data": {
      "text/html": [
       "<div>\n",
       "<style scoped>\n",
       "    .dataframe tbody tr th:only-of-type {\n",
       "        vertical-align: middle;\n",
       "    }\n",
       "\n",
       "    .dataframe tbody tr th {\n",
       "        vertical-align: top;\n",
       "    }\n",
       "\n",
       "    .dataframe thead th {\n",
       "        text-align: right;\n",
       "    }\n",
       "</style>\n",
       "<table border=\"1\" class=\"dataframe\">\n",
       "  <thead>\n",
       "    <tr style=\"text-align: right;\">\n",
       "      <th></th>\n",
       "      <th>0</th>\n",
       "      <th>1</th>\n",
       "      <th>2</th>\n",
       "      <th>3</th>\n",
       "    </tr>\n",
       "  </thead>\n",
       "  <tbody>\n",
       "    <tr>\n",
       "      <th>0</th>\n",
       "      <td>56.566774</td>\n",
       "      <td>24.189735</td>\n",
       "      <td>7.393535</td>\n",
       "      <td>8.208464</td>\n",
       "    </tr>\n",
       "    <tr>\n",
       "      <th>1</th>\n",
       "      <td>56.557355</td>\n",
       "      <td>24.196560</td>\n",
       "      <td>7.545835</td>\n",
       "      <td>7.323018</td>\n",
       "    </tr>\n",
       "    <tr>\n",
       "      <th>2</th>\n",
       "      <td>56.613757</td>\n",
       "      <td>24.254807</td>\n",
       "      <td>7.217771</td>\n",
       "      <td>7.339084</td>\n",
       "    </tr>\n",
       "    <tr>\n",
       "      <th>3</th>\n",
       "      <td>56.642808</td>\n",
       "      <td>24.138091</td>\n",
       "      <td>3.511365</td>\n",
       "      <td>11.468399</td>\n",
       "    </tr>\n",
       "    <tr>\n",
       "      <th>4</th>\n",
       "      <td>56.663986</td>\n",
       "      <td>24.103001</td>\n",
       "      <td>7.418397</td>\n",
       "      <td>9.191837</td>\n",
       "    </tr>\n",
       "  </tbody>\n",
       "</table>\n",
       "</div>"
      ],
      "text/plain": [
       "           0          1         2          3\n",
       "0  56.566774  24.189735  7.393535   8.208464\n",
       "1  56.557355  24.196560  7.545835   7.323018\n",
       "2  56.613757  24.254807  7.217771   7.339084\n",
       "3  56.642808  24.138091  3.511365  11.468399\n",
       "4  56.663986  24.103001  7.418397   9.191837"
      ]
     },
     "execution_count": 16,
     "metadata": {},
     "output_type": "execute_result"
    }
   ],
   "source": [
    "StarData.head()"
   ]
  },
  {
   "cell_type": "code",
   "execution_count": 17,
   "metadata": {},
   "outputs": [],
   "source": [
    "##Renaming the columns in the appropiate way as described in the question\n",
    "\n",
    "StarData.columns=['RA','Declination','Parallax','App.Magnitude']"
   ]
  },
  {
   "cell_type": "code",
   "execution_count": 18,
   "metadata": {},
   "outputs": [
    {
     "data": {
      "text/html": [
       "<div>\n",
       "<style scoped>\n",
       "    .dataframe tbody tr th:only-of-type {\n",
       "        vertical-align: middle;\n",
       "    }\n",
       "\n",
       "    .dataframe tbody tr th {\n",
       "        vertical-align: top;\n",
       "    }\n",
       "\n",
       "    .dataframe thead th {\n",
       "        text-align: right;\n",
       "    }\n",
       "</style>\n",
       "<table border=\"1\" class=\"dataframe\">\n",
       "  <thead>\n",
       "    <tr style=\"text-align: right;\">\n",
       "      <th></th>\n",
       "      <th>RA</th>\n",
       "      <th>Declination</th>\n",
       "      <th>Parallax</th>\n",
       "      <th>App.Magnitude</th>\n",
       "    </tr>\n",
       "  </thead>\n",
       "  <tbody>\n",
       "    <tr>\n",
       "      <th>0</th>\n",
       "      <td>56.566774</td>\n",
       "      <td>24.189735</td>\n",
       "      <td>7.393535</td>\n",
       "      <td>8.208464</td>\n",
       "    </tr>\n",
       "    <tr>\n",
       "      <th>1</th>\n",
       "      <td>56.557355</td>\n",
       "      <td>24.196560</td>\n",
       "      <td>7.545835</td>\n",
       "      <td>7.323018</td>\n",
       "    </tr>\n",
       "    <tr>\n",
       "      <th>2</th>\n",
       "      <td>56.613757</td>\n",
       "      <td>24.254807</td>\n",
       "      <td>7.217771</td>\n",
       "      <td>7.339084</td>\n",
       "    </tr>\n",
       "    <tr>\n",
       "      <th>3</th>\n",
       "      <td>56.642808</td>\n",
       "      <td>24.138091</td>\n",
       "      <td>3.511365</td>\n",
       "      <td>11.468399</td>\n",
       "    </tr>\n",
       "    <tr>\n",
       "      <th>4</th>\n",
       "      <td>56.663986</td>\n",
       "      <td>24.103001</td>\n",
       "      <td>7.418397</td>\n",
       "      <td>9.191837</td>\n",
       "    </tr>\n",
       "  </tbody>\n",
       "</table>\n",
       "</div>"
      ],
      "text/plain": [
       "          RA  Declination  Parallax  App.Magnitude\n",
       "0  56.566774    24.189735  7.393535       8.208464\n",
       "1  56.557355    24.196560  7.545835       7.323018\n",
       "2  56.613757    24.254807  7.217771       7.339084\n",
       "3  56.642808    24.138091  3.511365      11.468399\n",
       "4  56.663986    24.103001  7.418397       9.191837"
      ]
     },
     "execution_count": 18,
     "metadata": {},
     "output_type": "execute_result"
    }
   ],
   "source": [
    "StarData.head()"
   ]
  },
  {
   "cell_type": "code",
   "execution_count": 19,
   "metadata": {},
   "outputs": [
    {
     "data": {
      "text/html": [
       "<div>\n",
       "<style scoped>\n",
       "    .dataframe tbody tr th:only-of-type {\n",
       "        vertical-align: middle;\n",
       "    }\n",
       "\n",
       "    .dataframe tbody tr th {\n",
       "        vertical-align: top;\n",
       "    }\n",
       "\n",
       "    .dataframe thead th {\n",
       "        text-align: right;\n",
       "    }\n",
       "</style>\n",
       "<table border=\"1\" class=\"dataframe\">\n",
       "  <thead>\n",
       "    <tr style=\"text-align: right;\">\n",
       "      <th></th>\n",
       "      <th>index</th>\n",
       "      <th>RA</th>\n",
       "      <th>Declination</th>\n",
       "      <th>Parallax</th>\n",
       "      <th>App.Magnitude</th>\n",
       "    </tr>\n",
       "  </thead>\n",
       "  <tbody>\n",
       "    <tr>\n",
       "      <th>0</th>\n",
       "      <td>0</td>\n",
       "      <td>56.566774</td>\n",
       "      <td>24.189735</td>\n",
       "      <td>7.393535</td>\n",
       "      <td>8.208464</td>\n",
       "    </tr>\n",
       "    <tr>\n",
       "      <th>1</th>\n",
       "      <td>1</td>\n",
       "      <td>56.557355</td>\n",
       "      <td>24.196560</td>\n",
       "      <td>7.545835</td>\n",
       "      <td>7.323018</td>\n",
       "    </tr>\n",
       "    <tr>\n",
       "      <th>2</th>\n",
       "      <td>2</td>\n",
       "      <td>56.613757</td>\n",
       "      <td>24.254807</td>\n",
       "      <td>7.217771</td>\n",
       "      <td>7.339084</td>\n",
       "    </tr>\n",
       "    <tr>\n",
       "      <th>3</th>\n",
       "      <td>3</td>\n",
       "      <td>56.642808</td>\n",
       "      <td>24.138091</td>\n",
       "      <td>3.511365</td>\n",
       "      <td>11.468399</td>\n",
       "    </tr>\n",
       "    <tr>\n",
       "      <th>4</th>\n",
       "      <td>4</td>\n",
       "      <td>56.663986</td>\n",
       "      <td>24.103001</td>\n",
       "      <td>7.418397</td>\n",
       "      <td>9.191837</td>\n",
       "    </tr>\n",
       "    <tr>\n",
       "      <th>...</th>\n",
       "      <td>...</td>\n",
       "      <td>...</td>\n",
       "      <td>...</td>\n",
       "      <td>...</td>\n",
       "      <td>...</td>\n",
       "    </tr>\n",
       "    <tr>\n",
       "      <th>191</th>\n",
       "      <td>195</td>\n",
       "      <td>56.085556</td>\n",
       "      <td>24.772663</td>\n",
       "      <td>7.184981</td>\n",
       "      <td>10.851324</td>\n",
       "    </tr>\n",
       "    <tr>\n",
       "      <th>192</th>\n",
       "      <td>196</td>\n",
       "      <td>57.413389</td>\n",
       "      <td>24.227447</td>\n",
       "      <td>0.731824</td>\n",
       "      <td>11.703114</td>\n",
       "    </tr>\n",
       "    <tr>\n",
       "      <th>193</th>\n",
       "      <td>197</td>\n",
       "      <td>57.275547</td>\n",
       "      <td>23.781044</td>\n",
       "      <td>7.209080</td>\n",
       "      <td>10.420579</td>\n",
       "    </tr>\n",
       "    <tr>\n",
       "      <th>194</th>\n",
       "      <td>198</td>\n",
       "      <td>56.352150</td>\n",
       "      <td>23.486739</td>\n",
       "      <td>3.247452</td>\n",
       "      <td>11.549389</td>\n",
       "    </tr>\n",
       "    <tr>\n",
       "      <th>195</th>\n",
       "      <td>199</td>\n",
       "      <td>55.894421</td>\n",
       "      <td>24.593812</td>\n",
       "      <td>0.312350</td>\n",
       "      <td>11.863298</td>\n",
       "    </tr>\n",
       "  </tbody>\n",
       "</table>\n",
       "<p>196 rows × 5 columns</p>\n",
       "</div>"
      ],
      "text/plain": [
       "     index         RA  Declination  Parallax  App.Magnitude\n",
       "0        0  56.566774    24.189735  7.393535       8.208464\n",
       "1        1  56.557355    24.196560  7.545835       7.323018\n",
       "2        2  56.613757    24.254807  7.217771       7.339084\n",
       "3        3  56.642808    24.138091  3.511365      11.468399\n",
       "4        4  56.663986    24.103001  7.418397       9.191837\n",
       "..     ...        ...          ...       ...            ...\n",
       "191    195  56.085556    24.772663  7.184981      10.851324\n",
       "192    196  57.413389    24.227447  0.731824      11.703114\n",
       "193    197  57.275547    23.781044  7.209080      10.420579\n",
       "194    198  56.352150    23.486739  3.247452      11.549389\n",
       "195    199  55.894421    24.593812  0.312350      11.863298\n",
       "\n",
       "[196 rows x 5 columns]"
      ]
     },
     "execution_count": 19,
     "metadata": {},
     "output_type": "execute_result"
    }
   ],
   "source": [
    "StarData.dropna().reset_index()"
   ]
  },
  {
   "cell_type": "code",
   "execution_count": 107,
   "metadata": {},
   "outputs": [],
   "source": [
    "## Storing Data in the Arrays of their corresponding Columns at once, so that it will be easy to access\n",
    "\n",
    "Apparent_Magnitude = StarData['App.Magnitude'].to_numpy()\n",
    "\n",
    "Parallax= StarData['Parallax'].to_numpy()\n",
    "\n",
    "Distance=1000/Parallax\n",
    "\n",
    "RA=StarData['RA'].to_numpy()\n",
    "\n",
    "Declination=StarData['Declination'].to_numpy()"
   ]
  },
  {
   "cell_type": "code",
   "execution_count": 108,
   "metadata": {},
   "outputs": [
    {
     "data": {
      "text/plain": [
       "(array([ 1.,  1.,  1.,  0.,  2.,  3.,  1.,  3.,  0.,  2.,  1.,  4.,  2.,\n",
       "         5.,  4.,  3.,  1.,  1.,  3., 11.,  5.,  9.,  3.,  1.,  5.,  3.,\n",
       "         6.,  4.,  7.,  7.,  4.,  2.,  9.,  4.,  4.,  8.,  4.,  8.,  4.,\n",
       "         3., 11.,  5.,  6.,  5.,  1.,  6.,  3.,  2.,  3.,  5.]),\n",
       " array([-2.71998553, -2.53965415, -2.35932276, -2.17899138, -1.99866   ,\n",
       "        -1.81832862, -1.63799724, -1.45766586, -1.27733448, -1.0970031 ,\n",
       "        -0.91667172, -0.73634034, -0.55600896, -0.37567758, -0.1953462 ,\n",
       "        -0.01501482,  0.16531656,  0.34564794,  0.52597932,  0.70631071,\n",
       "         0.88664209,  1.06697347,  1.24730485,  1.42763623,  1.60796761,\n",
       "         1.78829899,  1.96863037,  2.14896175,  2.32929313,  2.50962451,\n",
       "         2.68995589,  2.87028727,  3.05061865,  3.23095003,  3.41128141,\n",
       "         3.59161279,  3.77194418,  3.95227556,  4.13260694,  4.31293832,\n",
       "         4.4932697 ,  4.67360108,  4.85393246,  5.03426384,  5.21459522,\n",
       "         5.3949266 ,  5.57525798,  5.75558936,  5.93592074,  6.11625212,\n",
       "         6.2965835 ]),\n",
       " <BarContainer object of 50 artists>)"
      ]
     },
     "execution_count": 108,
     "metadata": {},
     "output_type": "execute_result"
    },
    {
     "data": {
      "image/png": "[encoded data removed]",
      "text/plain": [
       "<Figure size 432x288 with 1 Axes>"
      ]
     },
     "metadata": {
      "needs_background": "light"
     },
     "output_type": "display_data"
    }
   ],
   "source": [
    "## Operations on arrays are elementwise.Hence, we can directly write the Absolute Magnitude in the following form \n",
    "\n",
    "Absolute_Magnitude= Apparent_Magnitude + 5 - 5*log10(Distance)\n",
    "\n",
    "## Now, Plotting the Data in the form of Histogram\n",
    "\n",
    "hist(Absolute_Magnitude,bins=50)\n"
   ]
  },
  {
   "cell_type": "markdown",
   "metadata": {
    "id": "GafdlK2-sinu"
   },
   "source": [
    "A good way to visualize the actual star cluster as it appears to us in the night sky would be to make a scatter plot of declination and RA on the $y$ and $x$ axes respectively. Try plotting the stars such that the star appears bigger if it is brighter. One way to do this is to make the size of dots in scatter plot proportional to (12 - apparent magnitude) of the star.\n",
    "\n",
    "(Hint: Google how to make a scatter plot with variable size of dots.)\n",
    "\n",
    "If you can't make a plot with variable dot sizes, make a simple plot with all dots of same size."
   ]
  },
  {
   "cell_type": "code",
   "execution_count": 109,
   "metadata": {
    "id": "JUu_c0zU6vFF"
   },
   "outputs": [
    {
     "data": {
      "text/plain": [
       "<matplotlib.collections.PathCollection at 0x2203b6af9a0>"
      ]
     },
     "execution_count": 109,
     "metadata": {},
     "output_type": "execute_result"
    },
    {
     "data": {
      "image/png": "[encoded data removed]",
      "text/plain": [
       "<Figure size 432x288 with 1 Axes>"
      ]
     },
     "metadata": {
      "needs_background": "light"
     },
     "output_type": "display_data"
    }
   ],
   "source": [
    "#Solution code\n",
    "\n",
    "#For varying dot sizes we take the size of dots as a function of the Apparent Magnitude\n",
    "\n",
    "s=12-Apparent_Magnitude\n",
    "\n",
    "scatter(RA,Declination,s=s,color='indigo')"
   ]
  },
  {
   "cell_type": "markdown",
   "metadata": {
    "id": "L2gMlFIy7Ucq"
   },
   "source": [
    "# **Question 2 : Estimating Age of Universe using Hubble's Law**\n",
    "\n",
    "In this problem, we will use Hubble's Law on a large number of galaxies, and fit the data to a linear model to find the value of the Hubble Constant, which we will use to calculate the current age of the universe.\n",
    "\n",
    "You can learn more about Hubble's Law, a very important principle of cosmology and expansion of Universe over here - https://simple.m.wikipedia.org/wiki/Hubble%27s_law \n",
    "\n",
    "Step 0: Importing libraries\n",
    "\n",
    "Dump all the required libraries, and define any necessary constants in the code box below.\n",
    "\n",
    "You will require the optimize module of scipy library, so be sure to include a line saying `from scipy.optimize import curve_fit`."
   ]
  },
  {
   "cell_type": "code",
   "execution_count": 41,
   "metadata": {
    "id": "DTpOG9Fr70Nc"
   },
   "outputs": [],
   "source": [
    "from scipy.optimize import curve_fit as cf"
   ]
  },
  {
   "cell_type": "markdown",
   "metadata": {
    "id": "b_Fes9_P78i_"
   },
   "source": [
    "Step 2: Loading the data\n",
    "\n",
    "Open the file \"data.txt\" and store it in array(s). First row contains the distance modulus (https://en.m.wikipedia.org/wiki/Distance_modulus) of the galaxy from earth, second row contains the line of sight velocity in km/s.\n",
    "\n",
    "To convert distance modulus to distance in Megaparsecs (the unit we will be using in the rest of the question), use the formula:\n",
    "\n",
    "$d = 10^{\\left(\\frac{d_{dist mod}}{5} - 5\\right)}$\n",
    "\n",
    "where $d$ is in megaparsecs (Mpc)."
   ]
  },
  {
   "cell_type": "code",
   "execution_count": 42,
   "metadata": {
    "id": "itgR16OO8jTb"
   },
   "outputs": [
    {
     "data": {
      "text/html": [
       "<div>\n",
       "<style scoped>\n",
       "    .dataframe tbody tr th:only-of-type {\n",
       "        vertical-align: middle;\n",
       "    }\n",
       "\n",
       "    .dataframe tbody tr th {\n",
       "        vertical-align: top;\n",
       "    }\n",
       "\n",
       "    .dataframe thead th {\n",
       "        text-align: right;\n",
       "    }\n",
       "</style>\n",
       "<table border=\"1\" class=\"dataframe\">\n",
       "  <thead>\n",
       "    <tr style=\"text-align: right;\">\n",
       "      <th></th>\n",
       "      <th>mod0</th>\n",
       "      <th>vgsr</th>\n",
       "    </tr>\n",
       "  </thead>\n",
       "  <tbody>\n",
       "    <tr>\n",
       "      <th>0</th>\n",
       "      <td>36.65</td>\n",
       "      <td>15080</td>\n",
       "    </tr>\n",
       "    <tr>\n",
       "      <th>1</th>\n",
       "      <td>37.29</td>\n",
       "      <td>18221</td>\n",
       "    </tr>\n",
       "    <tr>\n",
       "      <th>2</th>\n",
       "      <td>33.75</td>\n",
       "      <td>3129</td>\n",
       "    </tr>\n",
       "    <tr>\n",
       "      <th>3</th>\n",
       "      <td>32.66</td>\n",
       "      <td>4486</td>\n",
       "    </tr>\n",
       "    <tr>\n",
       "      <th>4</th>\n",
       "      <td>33.37</td>\n",
       "      <td>4564</td>\n",
       "    </tr>\n",
       "  </tbody>\n",
       "</table>\n",
       "</div>"
      ],
      "text/plain": [
       "    mod0   vgsr\n",
       "0  36.65  15080\n",
       "1  37.29  18221\n",
       "2  33.75   3129\n",
       "3  32.66   4486\n",
       "4  33.37   4564"
      ]
     },
     "execution_count": 42,
     "metadata": {},
     "output_type": "execute_result"
    }
   ],
   "source": [
    "## Loading the csv file\n",
    "\n",
    "Data=pd.read_csv(\"data.txt\")\n",
    "Data.head()"
   ]
  },
  {
   "cell_type": "markdown",
   "metadata": {
    "id": "v8n0_bmv8rBu"
   },
   "source": [
    "Step 3: Preliminary Data Visualization\n",
    "\n",
    "Create a function taking the distance to the galaxy, and a slope and an intercept parameter as input, returning recession velocity of that galaxy as output. A code snippet showing how to use curve_fit to find the optimum slope and intercept is shown here - https://github.com/krittikaiitb/tutorials/blob/master/Tutorial_07/SciPy1.ipynb \n",
    "\n",
    "Create a scatter plot of the line of sight velocity of the galaxies (in km/s) vs the distance to the galaxies (in Mpc). Also plot the model you just fit in the same graph."
   ]
  },
  {
   "cell_type": "code",
   "execution_count": 101,
   "metadata": {
    "id": "PYqutdHI8yB6"
   },
   "outputs": [],
   "source": [
    "## Storing the Data in the corresponding arrays for easy access\n",
    "\n",
    "dis_mod=Data['mod0'].to_numpy()\n",
    "\n",
    "velocity=Data['vgsr'].to_numpy()\n",
    "\n",
    "dis=10**((dis_mod/5)-5)\n",
    "\n",
    "#The above relation can we written in the following form due to element wise operations in an array"
   ]
  },
  {
   "cell_type": "code",
   "execution_count": 115,
   "metadata": {},
   "outputs": [
    {
     "data": {
      "text/plain": [
       "[<matplotlib.lines.Line2D at 0x2203afc2c40>]"
      ]
     },
     "execution_count": 115,
     "metadata": {},
     "output_type": "execute_result"
    },
    {
     "data": {
      "image/png": "[encoded data removed]",
      "text/plain": [
       "<Figure size 432x288 with 1 Axes>"
      ]
     },
     "metadata": {
      "needs_background": "light"
     },
     "output_type": "display_data"
    }
   ],
   "source": [
    "## As mentioned we first define Best_fit function as the following\n",
    "\n",
    "def Best_fit(d,m,c):\n",
    "    return m*d+c\n",
    "\n",
    "## Using curve_fit so that we can get the solution of optimal variables\n",
    "\n",
    "P,M = cf(Best_fit,dis,velocity)\n",
    "\n",
    "## P=array[Slope,Interpect] \n",
    "##Plotting scatter and Slope*dis + Intercept\n",
    "\n",
    "scatter(dis,velocity)\n",
    "Line=P[0]*dis+P[1] \n",
    "\n",
    "plot(dis,Line,'r',linewidth=3)"
   ]
  },
  {
   "cell_type": "markdown",
   "metadata": {
    "id": "osng2Pxi84rx"
   },
   "source": [
    "Step 4: Removing Outliers (OPTIONAL)\n",
    "\n",
    "As you can see, there are many points on the outskirts of the graph, which may affect out calulations of the slope and intercept unduly. Devise a way to remove those outliers to your satisfaction, and replot the remaining data points. There are multiple ways to do this, a few of them could be:\n",
    "\n",
    "1. Removing all points whose distances are 3$\\times$(Standard Deviation of Distance from Earth) away from the Mean Distance of all input galaxies from Earth. (or take any factor other than 3)\n",
    "\n",
    "2. Removing all points which are a certain distance away from the best fit line initially calculated (decide yourself what to set this distance as, could be a factor of the mean distance from the line for all points)."
   ]
  },
  {
   "cell_type": "code",
   "execution_count": 121,
   "metadata": {
    "id": "0-RxWO9g9Lzd"
   },
   "outputs": [],
   "source": [
    "##Lets first store the standard derviation and mean in the appropiate variables\n",
    "\n",
    "Std_Dis=std(dis)\n",
    "Mean_Dis=mean(dis)\n",
    "\n",
    "#Defining the function \"Remove_Outliers\", which deletes the elements where the above condition is satisfied i;e dis-mean>3*std \n",
    "#And then plots the corresponding graphs\n",
    "\n",
    "def Remove_Outliers(std,mean,velo,dis):\n",
    "    New_RemovedDis_Index=np.where(dis[:]-mean>3*std) ##Identifying the Index of removing elements\n",
    "    \n",
    "    New_Dis=np.delete(dis,New_RemovedDis_Index,axis=0)  ##Removing elements of correponding Index from both dis and velo\n",
    "    \n",
    "    New_Velo=np.delete(velo,New_RemovedDis_Index,axis=0)\n",
    "    \n",
    "    #Now that we got the required arrays ,plotting scatter and line graph(same way as in Best_fit)\n",
    "    \n",
    "    scatter(New_Dis,New_Velo)\n",
    "    \n",
    "    v,p_conv=cf(Best_fit,New_Dis,New_Velo)\n",
    "    \n",
    "    plot(New_Dis,v[0]*New_Dis+v[1],'r',linewidth=2.5)\n",
    "    \n",
    "    return"
   ]
  },
  {
   "cell_type": "code",
   "execution_count": 122,
   "metadata": {},
   "outputs": [
    {
     "data": {
      "image/png": "[encoded data removed]",
      "text/plain": [
       "<Figure size 432x288 with 1 Axes>"
      ]
     },
     "metadata": {
      "needs_background": "light"
     },
     "output_type": "display_data"
    }
   ],
   "source": [
    "Remove_Outliers(Std_Dis,Mean_Dis,velocity,dis)"
   ]
  },
  {
   "cell_type": "code",
   "execution_count": 127,
   "metadata": {},
   "outputs": [],
   "source": [
    "##Defining the function which Removes the elements satisfying the condition (distance>5*mean) and plots its corresponding scatter\n",
    "## and regression line\n",
    "\n",
    "def Remove_Points_Plot(dis,velo,n):\n",
    "    P,M = cf(Best_fit,dis,velo)\n",
    "    ##Optimized variables stored in P; P=[Slope,Intercept]\n",
    "    \n",
    "    Point_distance=abs(P[0]*dis-velo+P[1])/sqrt((P[0]**2)+1) ##Making an array of the distances from the line\n",
    "    \n",
    "    ##Finding Indices where the following condition is satisfied and deleting its corresponding elements from dis and velo\n",
    "    \n",
    "    Index=np.where(Point_distance[:]>n*mean(Point_distance)) \n",
    "    \n",
    "    New_Dis=np.delete(dis,Index,axis=0)\n",
    "    New_Velo=np.delete(velo,Index,axis=0)\n",
    "    \n",
    "    scatter(New_Dis,New_Velo)\n",
    "    plot(New_Dis,P[0]*New_Dis+P[1],'r')\n",
    "    \n",
    "    return"
   ]
  },
  {
   "cell_type": "code",
   "execution_count": 128,
   "metadata": {},
   "outputs": [
    {
     "data": {
      "image/png": "[encoded data removed]",
      "text/plain": [
       "<Figure size 432x288 with 1 Axes>"
      ]
     },
     "metadata": {
      "needs_background": "light"
     },
     "output_type": "display_data"
    }
   ],
   "source": [
    "Remove_Points_Plot(dis,velocity,5)"
   ]
  },
  {
   "cell_type": "code",
   "execution_count": 129,
   "metadata": {},
   "outputs": [
    {
     "data": {
      "image/png": "[encoded data removed]",
      "text/plain": [
       "<Figure size 432x288 with 1 Axes>"
      ]
     },
     "metadata": {
      "needs_background": "light"
     },
     "output_type": "display_data"
    }
   ],
   "source": [
    "Remove_Points_Plot(dis,velocity,10)"
   ]
  },
  {
   "cell_type": "code",
   "execution_count": 130,
   "metadata": {},
   "outputs": [
    {
     "data": {
      "image/png": "[encoded data removed]",
      "text/plain": [
       "<Figure size 432x288 with 1 Axes>"
      ]
     },
     "metadata": {
      "needs_background": "light"
     },
     "output_type": "display_data"
    }
   ],
   "source": [
    "Remove_Points_Plot(dis,velocity,15)"
   ]
  },
  {
   "cell_type": "code",
   "execution_count": null,
   "metadata": {},
   "outputs": [],
   "source": [
    "##As we can see based on the factor we can get the corresponding graphs from the function "
   ]
  },
  {
   "cell_type": "markdown",
   "metadata": {
    "id": "y0PXYi3V9QF0"
   },
   "source": [
    "Step 5: Conclusion\n",
    "\n",
    "The slope of the graph (with recessional velocity in the y-axis and distance of the galaxy in the x-axis) gives us the Hubble Constant $H_0$ (in units km/s-Mpc). The reciprocal of the Hubble Constant is a good approximation for the age of the universe. Hence, find the age of the universe using your calculations."
   ]
  },
  {
   "cell_type": "code",
   "execution_count": 125,
   "metadata": {
    "id": "2u9oHjvS9gZf"
   },
   "outputs": [
    {
     "data": {
      "text/plain": [
       "15524561141.637434"
      ]
     },
     "execution_count": 125,
     "metadata": {},
     "output_type": "execute_result"
    }
   ],
   "source": [
    "## 1Mpac=3.26x10^6 light years, 1 light years=9.461x10^12 KM, 1 year= 3.154x10^7 sec.\n",
    "\n",
    "##Hence converting the units of inverse of slope in years\n",
    "\n",
    "##As mentioned earlier P=[Slope,Intercept], given that Ho is slope and Age=1/slope we write,\n",
    "\n",
    "Age=(1/P[0])*(3.26*(10**6)*9.46*(10**12))/(3.154*(10**7))\n",
    "\n",
    "Age"
   ]
  },
  {
   "cell_type": "code",
   "execution_count": 69,
   "metadata": {},
   "outputs": [],
   "source": [
    "##That is approximately 15.5 billion years which is pretty close to the real one which is 13.8 billion years"
   ]
  }
 ],
 "metadata": {
  "colab": {
   "authorship_tag": "ABX9TyNaK6XDBQKfATua5LP6gr1x",
   "collapsed_sections": [],
   "name": "CAB_Problem_Statement.ipynb",
   "provenance": []
  },
  "kernelspec": {
   "display_name": "Python 3 (ipykernel)",
   "language": "python",
   "name": "python3"
  },
  "language_info": {
   "codemirror_mode": {
    "name": "ipython",
    "version": 3
   },
   "file_extension": ".py",
   "mimetype": "text/x-python",
   "name": "python",
   "nbconvert_exporter": "python",
   "pygments_lexer": "ipython3",
   "version": "3.9.7"
  }
 },
 "nbformat": 4,
 "nbformat_minor": 1
}
